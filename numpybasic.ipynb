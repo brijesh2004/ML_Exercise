{
 "cells": [
  {
   "cell_type": "markdown",
   "id": "3eb74c14",
   "metadata": {},
   "source": [
    "print(\"hello \")"
   ]
  },
  {
   "cell_type": "markdown",
   "id": "eeb8e59d",
   "metadata": {},
   "source": [
    "#1.Import Dataset"
   ]
  },
  {
   "cell_type": "markdown",
   "id": "301d3904",
   "metadata": {},
   "source": [
    "over here we will import dataset"
   ]
  },
  {
   "cell_type": "markdown",
   "id": "c34b1f64",
   "metadata": {},
   "source": [
    "<button>Click me</button>"
   ]
  },
  {
   "cell_type": "markdown",
   "id": "12b259d3",
   "metadata": {},
   "source": [
    "# Numpy vs List"
   ]
  },
  {
   "cell_type": "code",
   "execution_count": 2,
   "id": "7c0e6cbe",
   "metadata": {},
   "outputs": [],
   "source": [
    "import numpy as np\n",
    "lista = range(100)\n",
    "arrl1 = np.arange(100)\n"
   ]
  },
  {
   "cell_type": "code",
   "execution_count": 3,
   "id": "3e260e4d",
   "metadata": {},
   "outputs": [],
   "source": [
    "import sys"
   ]
  },
  {
   "cell_type": "code",
   "execution_count": 6,
   "id": "0e45ea47",
   "metadata": {},
   "outputs": [
    {
     "name": "stdout",
     "output_type": "stream",
     "text": [
      "2800\n"
     ]
    }
   ],
   "source": [
    "print(sys.getsizeof(87)*len(lista))"
   ]
  },
  {
   "cell_type": "code",
   "execution_count": 8,
   "id": "5d4663e8",
   "metadata": {},
   "outputs": [
    {
     "name": "stdout",
     "output_type": "stream",
     "text": [
      "2800\n"
     ]
    }
   ],
   "source": [
    "print(sys.getsizeof(8)*len(lista))"
   ]
  },
  {
   "cell_type": "code",
   "execution_count": 7,
   "id": "1b81d3cc",
   "metadata": {},
   "outputs": [
    {
     "name": "stdout",
     "output_type": "stream",
     "text": [
      "400\n"
     ]
    }
   ],
   "source": [
    "print(arrl1.itemsize*arrl1.size)"
   ]
  },
  {
   "cell_type": "code",
   "execution_count": 10,
   "id": "5342acbb",
   "metadata": {},
   "outputs": [],
   "source": [
    "import time"
   ]
  },
  {
   "cell_type": "code",
   "execution_count": 13,
   "id": "b4091010",
   "metadata": {},
   "outputs": [
    {
     "name": "stdout",
     "output_type": "stream",
     "text": [
      "22.45831322669983\n"
     ]
    }
   ],
   "source": [
    "x=range(100000000)\n",
    "y=range(100000000 , 200000000)\n",
    "start_time = time.time()\n",
    "c=[(x,y) for x,y in zip(x,y)]\n",
    "print(time.time()-start_time)"
   ]
  },
  {
   "cell_type": "code",
   "execution_count": 14,
   "id": "ff807854",
   "metadata": {},
   "outputs": [
    {
     "name": "stdout",
     "output_type": "stream",
     "text": [
      "0.27223634719848633\n"
     ]
    }
   ],
   "source": [
    "a=np.arange(100000000)\n",
    "b=np.arange(100000000 , 200000000)\n",
    "start_time1 = time.time()\n",
    "z = a+b\n",
    "print(time.time()-start_time1)"
   ]
  }
 ],
 "metadata": {
  "kernelspec": {
   "display_name": "Python 3 (ipykernel)",
   "language": "python",
   "name": "python3"
  },
  "language_info": {
   "codemirror_mode": {
    "name": "ipython",
    "version": 3
   },
   "file_extension": ".py",
   "mimetype": "text/x-python",
   "name": "python",
   "nbconvert_exporter": "python",
   "pygments_lexer": "ipython3",
   "version": "3.9.13"
  }
 },
 "nbformat": 4,
 "nbformat_minor": 5
}
